{
 "cells": [
  {
   "cell_type": "markdown",
   "id": "c8074d26",
   "metadata": {},
   "source": [
    "#### Importando bibliotecas"
   ]
  },
  {
   "cell_type": "code",
   "execution_count": 167,
   "id": "ce055399",
   "metadata": {},
   "outputs": [],
   "source": [
    "#bibliotecas\n",
    "\n",
    "import pandas as pd\n",
    "import numpy as np"
   ]
  },
  {
   "cell_type": "code",
   "execution_count": 168,
   "id": "f44546b8",
   "metadata": {},
   "outputs": [],
   "source": [
    "#abrir csv\n",
    "\n",
    "df = pd.read_csv('zomato.csv')\n",
    "\n",
    "data = df.copy"
   ]
  },
  {
   "cell_type": "markdown",
   "id": "898cfdbc",
   "metadata": {},
   "source": [
    "#### Inspeção e tratamento de dados"
   ]
  },
  {
   "cell_type": "code",
   "execution_count": 169,
   "id": "d0fa6cc2",
   "metadata": {},
   "outputs": [
    {
     "data": {
      "text/plain": [
       "(7527, 21)"
      ]
     },
     "execution_count": 169,
     "metadata": {},
     "output_type": "execute_result"
    }
   ],
   "source": [
    "#inspeção de dimensão do dataframe\n",
    "\n",
    "df.shape"
   ]
  },
  {
   "cell_type": "code",
   "execution_count": 170,
   "id": "ebf1fda2",
   "metadata": {},
   "outputs": [
    {
     "name": "stdout",
     "output_type": "stream",
     "text": [
      "<class 'pandas.core.frame.DataFrame'>\n",
      "RangeIndex: 7527 entries, 0 to 7526\n",
      "Data columns (total 21 columns):\n",
      " #   Column                Non-Null Count  Dtype  \n",
      "---  ------                --------------  -----  \n",
      " 0   Restaurant ID         7527 non-null   int64  \n",
      " 1   Restaurant Name       7527 non-null   object \n",
      " 2   Country Code          7527 non-null   int64  \n",
      " 3   City                  7527 non-null   object \n",
      " 4   Address               7527 non-null   object \n",
      " 5   Locality              7527 non-null   object \n",
      " 6   Locality Verbose      7527 non-null   object \n",
      " 7   Longitude             7527 non-null   float64\n",
      " 8   Latitude              7527 non-null   float64\n",
      " 9   Cuisines              7512 non-null   object \n",
      " 10  Average Cost for two  7527 non-null   int64  \n",
      " 11  Currency              7527 non-null   object \n",
      " 12  Has Table booking     7527 non-null   int64  \n",
      " 13  Has Online delivery   7527 non-null   int64  \n",
      " 14  Is delivering now     7527 non-null   int64  \n",
      " 15  Switch to order menu  7527 non-null   int64  \n",
      " 16  Price range           7527 non-null   int64  \n",
      " 17  Aggregate rating      7527 non-null   float64\n",
      " 18  Rating color          7527 non-null   object \n",
      " 19  Rating text           7527 non-null   object \n",
      " 20  Votes                 7527 non-null   int64  \n",
      "dtypes: float64(3), int64(9), object(9)\n",
      "memory usage: 1.2+ MB\n"
     ]
    }
   ],
   "source": [
    "#inspeção geral\n",
    "\n",
    "df.info()"
   ]
  },
  {
   "cell_type": "code",
   "execution_count": 171,
   "id": "8221efae",
   "metadata": {},
   "outputs": [
    {
     "data": {
      "text/plain": [
       "Restaurant ID            0\n",
       "Restaurant Name          0\n",
       "Country Code             0\n",
       "City                     0\n",
       "Address                  0\n",
       "Locality                 0\n",
       "Locality Verbose         0\n",
       "Longitude                0\n",
       "Latitude                 0\n",
       "Cuisines                15\n",
       "Average Cost for two     0\n",
       "Currency                 0\n",
       "Has Table booking        0\n",
       "Has Online delivery      0\n",
       "Is delivering now        0\n",
       "Switch to order menu     0\n",
       "Price range              0\n",
       "Aggregate rating         0\n",
       "Rating color             0\n",
       "Rating text              0\n",
       "Votes                    0\n",
       "dtype: int64"
      ]
     },
     "execution_count": 171,
     "metadata": {},
     "output_type": "execute_result"
    }
   ],
   "source": [
    "#inspeção de dados nulos\n",
    "\n",
    "df.isna().sum()"
   ]
  },
  {
   "cell_type": "code",
   "execution_count": 172,
   "id": "b366bf38",
   "metadata": {},
   "outputs": [
    {
     "data": {
      "text/plain": [
       "Index(['Restaurant ID', 'Restaurant Name', 'Country Code', 'City', 'Address',\n",
       "       'Locality', 'Locality Verbose', 'Longitude', 'Latitude', 'Cuisines',\n",
       "       'Average Cost for two', 'Currency', 'Has Table booking',\n",
       "       'Has Online delivery', 'Is delivering now', 'Switch to order menu',\n",
       "       'Price range', 'Aggregate rating', 'Rating color', 'Rating text',\n",
       "       'Votes'],\n",
       "      dtype='object')"
      ]
     },
     "execution_count": 172,
     "metadata": {},
     "output_type": "execute_result"
    }
   ],
   "source": [
    "#inspeção dos nomes das colunas\n",
    "\n",
    "df.columns"
   ]
  },
  {
   "cell_type": "code",
   "execution_count": 173,
   "id": "28434f33",
   "metadata": {},
   "outputs": [],
   "source": [
    "#função para padronizar o nome das colunas\n",
    "\n",
    "def rename_columns(data):\n",
    "    old_cols = df.columns\n",
    "    new_cols = []\n",
    "    \n",
    "    for col in old_cols:\n",
    "        new = col.lower().replace(' ', '_')\n",
    "        new_cols.append(new)\n",
    "    \n",
    "    df.columns = new_cols\n",
    "        \n",
    "    return df"
   ]
  },
  {
   "cell_type": "code",
   "execution_count": 174,
   "id": "469f501c",
   "metadata": {},
   "outputs": [
    {
     "data": {
      "text/plain": [
       "Index(['restaurant_id', 'restaurant_name', 'country_code', 'city', 'address',\n",
       "       'locality', 'locality_verbose', 'longitude', 'latitude', 'cuisines',\n",
       "       'average_cost_for_two', 'currency', 'has_table_booking',\n",
       "       'has_online_delivery', 'is_delivering_now', 'switch_to_order_menu',\n",
       "       'price_range', 'aggregate_rating', 'rating_color', 'rating_text',\n",
       "       'votes'],\n",
       "      dtype='object')"
      ]
     },
     "execution_count": 174,
     "metadata": {},
     "output_type": "execute_result"
    }
   ],
   "source": [
    "#aplicando função\n",
    "\n",
    "df = rename_columns(df)\n",
    "df.columns"
   ]
  },
  {
   "cell_type": "code",
   "execution_count": 175,
   "id": "a4ed116f",
   "metadata": {},
   "outputs": [],
   "source": [
    "#criar coluna dos países\n",
    "\n",
    "def country_name(name):\n",
    "    country_name = {\n",
    "         1: \"India\",\n",
    "        14: \"Australia\",\n",
    "        30: \"Brazil\",\n",
    "        37: \"Canada\",\n",
    "        94: \"Indonesia\",\n",
    "        148: \"New Zeland\",\n",
    "        162: \"Philippines\",\n",
    "        166: \"Qatar\",\n",
    "        184: \"Singapure\",\n",
    "        189: \"South Africa\",\n",
    "        191: \"Sri Lanka\",\n",
    "        208: \"Turkey\",\n",
    "        214: \"United Arab Emirates\",\n",
    "        215: \"England\",\n",
    "        216: \"United States of America\"\n",
    "        }\n",
    "    \n",
    "    return country_name[name]"
   ]
  },
  {
   "cell_type": "code",
   "execution_count": 176,
   "id": "0e409d23",
   "metadata": {},
   "outputs": [],
   "source": [
    "#aplicando função\n",
    "\n",
    "df['country_name'] = df['country_code'].apply(lambda x: country_name(x))"
   ]
  },
  {
   "cell_type": "code",
   "execution_count": 177,
   "id": "155dfe2e",
   "metadata": {
    "scrolled": false
   },
   "outputs": [],
   "source": [
    "#remover mais de uma culinária na mesma linha\n",
    "\n",
    "df['cuisines_null'] = df['cuisines'].fillna('null') #trocando o np.nan (float) por null(str)\n",
    "df['cuisines_null'] = df['cuisines_null'].apply(lambda x: x.split(',')[0]) #salvando tudo na nova coluna"
   ]
  },
  {
   "cell_type": "code",
   "execution_count": 178,
   "id": "8c324f44",
   "metadata": {},
   "outputs": [],
   "source": [
    "#função para alterar coluna de cores\n",
    "\n",
    "def color_name(color_code):\n",
    "    colors = {\n",
    "        \"3F7E00\": \"darkgreen\",\n",
    "        \"5BA829\": \"green\",\n",
    "        \"9ACD32\": \"lightgreen\",\n",
    "        \"CDD614\": \"orange\",\n",
    "        \"FFBA00\": \"red\",\n",
    "        \"CBCBC8\": \"darkred\",\n",
    "        \"FF7800\": \"darkred\",\n",
    "        }\n",
    "    return colors[color_code]"
   ]
  },
  {
   "cell_type": "code",
   "execution_count": 179,
   "id": "bbd6a54e",
   "metadata": {},
   "outputs": [],
   "source": [
    "#aplicando função\n",
    "\n",
    "df['rating_color'] = df['rating_color'].apply(lambda x: color_name(x))"
   ]
  },
  {
   "cell_type": "code",
   "execution_count": 180,
   "id": "aacb48f6",
   "metadata": {},
   "outputs": [],
   "source": [
    "#função para alterar dados numéricos das coluna 'has_online_delivery', 'is_delivering_now'\n",
    "\n",
    "def number_name(number):\n",
    "    numbers = {0: 'yes', 1: 'no'}\n",
    "    \n",
    "    return numbers[number]"
   ]
  },
  {
   "cell_type": "code",
   "execution_count": 181,
   "id": "898f8443",
   "metadata": {},
   "outputs": [],
   "source": [
    "#aplicação da função\n",
    "\n",
    "df['has_online_delivery'] = df['has_online_delivery'].apply(lambda x: number_name(x))"
   ]
  },
  {
   "cell_type": "code",
   "execution_count": 182,
   "id": "1e5a5c21",
   "metadata": {},
   "outputs": [],
   "source": [
    "#aplicação da função\n",
    "\n",
    "df['is_delivering_now'] = df['is_delivering_now'].apply(lambda x: number_name(x))"
   ]
  },
  {
   "cell_type": "code",
   "execution_count": 183,
   "id": "95a7e6db",
   "metadata": {},
   "outputs": [],
   "source": [
    "#classificar coluna 'price_range'\n",
    "\n",
    "def create_price_tye(price_range):\n",
    "    if price_range == 1:\n",
    "        return 'cheap'\n",
    "    elif price_range == 2:\n",
    "        return 'normal'\n",
    "    elif price_range == 3:\n",
    "        return 'expensive'\n",
    "    else:\n",
    "        return 'gourmet'\n",
    "    \n",
    "    return price_range"
   ]
  },
  {
   "cell_type": "code",
   "execution_count": 184,
   "id": "54e09b62",
   "metadata": {},
   "outputs": [],
   "source": [
    "#aplicação da função\n",
    "\n",
    "df['price_range'] = df['price_range'].apply(lambda x: create_price_tye(x))"
   ]
  },
  {
   "cell_type": "code",
   "execution_count": 185,
   "id": "5c1f97e3",
   "metadata": {
    "scrolled": false
   },
   "outputs": [
    {
     "data": {
      "text/plain": [
       "restaurant_id             int64\n",
       "restaurant_name          object\n",
       "country_code              int64\n",
       "city                     object\n",
       "address                  object\n",
       "locality                 object\n",
       "locality_verbose         object\n",
       "longitude               float64\n",
       "latitude                float64\n",
       "cuisines                 object\n",
       "average_cost_for_two      int64\n",
       "currency                 object\n",
       "has_table_booking         int64\n",
       "has_online_delivery      object\n",
       "is_delivering_now        object\n",
       "switch_to_order_menu      int64\n",
       "price_range              object\n",
       "aggregate_rating        float64\n",
       "rating_color             object\n",
       "rating_text              object\n",
       "votes                     int64\n",
       "country_name             object\n",
       "cuisines_null            object\n",
       "dtype: object"
      ]
     },
     "execution_count": 185,
     "metadata": {},
     "output_type": "execute_result"
    }
   ],
   "source": [
    "#checando se os tipos de dados estão corretos\n",
    "\n",
    "df.dtypes"
   ]
  },
  {
   "cell_type": "code",
   "execution_count": 186,
   "id": "a2acdfca",
   "metadata": {},
   "outputs": [
    {
     "data": {
      "text/html": [
       "<div>\n",
       "<style scoped>\n",
       "    .dataframe tbody tr th:only-of-type {\n",
       "        vertical-align: middle;\n",
       "    }\n",
       "\n",
       "    .dataframe tbody tr th {\n",
       "        vertical-align: top;\n",
       "    }\n",
       "\n",
       "    .dataframe thead th {\n",
       "        text-align: right;\n",
       "    }\n",
       "</style>\n",
       "<table border=\"1\" class=\"dataframe\">\n",
       "  <thead>\n",
       "    <tr style=\"text-align: right;\">\n",
       "      <th></th>\n",
       "      <th>count</th>\n",
       "      <th>mean</th>\n",
       "      <th>std</th>\n",
       "      <th>min</th>\n",
       "      <th>25%</th>\n",
       "      <th>50%</th>\n",
       "      <th>75%</th>\n",
       "      <th>max</th>\n",
       "    </tr>\n",
       "  </thead>\n",
       "  <tbody>\n",
       "    <tr>\n",
       "      <th>restaurant_id</th>\n",
       "      <td>7527.0</td>\n",
       "      <td>10556892.0</td>\n",
       "      <td>7075141.0</td>\n",
       "      <td>549.0</td>\n",
       "      <td>3500060.0</td>\n",
       "      <td>7701457.0</td>\n",
       "      <td>17147150.0</td>\n",
       "      <td>19040277.0</td>\n",
       "    </tr>\n",
       "    <tr>\n",
       "      <th>country_code</th>\n",
       "      <td>7527.0</td>\n",
       "      <td>93.0</td>\n",
       "      <td>99.0</td>\n",
       "      <td>1.0</td>\n",
       "      <td>1.0</td>\n",
       "      <td>30.0</td>\n",
       "      <td>214.0</td>\n",
       "      <td>216.0</td>\n",
       "    </tr>\n",
       "    <tr>\n",
       "      <th>longitude</th>\n",
       "      <td>7527.0</td>\n",
       "      <td>34.0</td>\n",
       "      <td>77.0</td>\n",
       "      <td>-123.0</td>\n",
       "      <td>-4.0</td>\n",
       "      <td>74.0</td>\n",
       "      <td>80.0</td>\n",
       "      <td>175.0</td>\n",
       "    </tr>\n",
       "    <tr>\n",
       "      <th>latitude</th>\n",
       "      <td>7527.0</td>\n",
       "      <td>19.0</td>\n",
       "      <td>23.0</td>\n",
       "      <td>-41.0</td>\n",
       "      <td>13.0</td>\n",
       "      <td>25.0</td>\n",
       "      <td>32.0</td>\n",
       "      <td>56.0</td>\n",
       "    </tr>\n",
       "    <tr>\n",
       "      <th>average_cost_for_two</th>\n",
       "      <td>7527.0</td>\n",
       "      <td>7152.0</td>\n",
       "      <td>290607.0</td>\n",
       "      <td>0.0</td>\n",
       "      <td>60.0</td>\n",
       "      <td>290.0</td>\n",
       "      <td>600.0</td>\n",
       "      <td>25000017.0</td>\n",
       "    </tr>\n",
       "    <tr>\n",
       "      <th>has_table_booking</th>\n",
       "      <td>7527.0</td>\n",
       "      <td>0.0</td>\n",
       "      <td>0.0</td>\n",
       "      <td>0.0</td>\n",
       "      <td>0.0</td>\n",
       "      <td>0.0</td>\n",
       "      <td>0.0</td>\n",
       "      <td>1.0</td>\n",
       "    </tr>\n",
       "    <tr>\n",
       "      <th>switch_to_order_menu</th>\n",
       "      <td>7527.0</td>\n",
       "      <td>0.0</td>\n",
       "      <td>0.0</td>\n",
       "      <td>0.0</td>\n",
       "      <td>0.0</td>\n",
       "      <td>0.0</td>\n",
       "      <td>0.0</td>\n",
       "      <td>0.0</td>\n",
       "    </tr>\n",
       "    <tr>\n",
       "      <th>aggregate_rating</th>\n",
       "      <td>7527.0</td>\n",
       "      <td>4.0</td>\n",
       "      <td>1.0</td>\n",
       "      <td>0.0</td>\n",
       "      <td>4.0</td>\n",
       "      <td>4.0</td>\n",
       "      <td>4.0</td>\n",
       "      <td>5.0</td>\n",
       "    </tr>\n",
       "    <tr>\n",
       "      <th>votes</th>\n",
       "      <td>7527.0</td>\n",
       "      <td>616.0</td>\n",
       "      <td>1128.0</td>\n",
       "      <td>0.0</td>\n",
       "      <td>152.0</td>\n",
       "      <td>335.0</td>\n",
       "      <td>663.0</td>\n",
       "      <td>41333.0</td>\n",
       "    </tr>\n",
       "  </tbody>\n",
       "</table>\n",
       "</div>"
      ],
      "text/plain": [
       "                       count        mean        std    min        25%  \\\n",
       "restaurant_id         7527.0  10556892.0  7075141.0  549.0  3500060.0   \n",
       "country_code          7527.0        93.0       99.0    1.0        1.0   \n",
       "longitude             7527.0        34.0       77.0 -123.0       -4.0   \n",
       "latitude              7527.0        19.0       23.0  -41.0       13.0   \n",
       "average_cost_for_two  7527.0      7152.0   290607.0    0.0       60.0   \n",
       "has_table_booking     7527.0         0.0        0.0    0.0        0.0   \n",
       "switch_to_order_menu  7527.0         0.0        0.0    0.0        0.0   \n",
       "aggregate_rating      7527.0         4.0        1.0    0.0        4.0   \n",
       "votes                 7527.0       616.0     1128.0    0.0      152.0   \n",
       "\n",
       "                            50%         75%         max  \n",
       "restaurant_id         7701457.0  17147150.0  19040277.0  \n",
       "country_code               30.0       214.0       216.0  \n",
       "longitude                  74.0        80.0       175.0  \n",
       "latitude                   25.0        32.0        56.0  \n",
       "average_cost_for_two      290.0       600.0  25000017.0  \n",
       "has_table_booking           0.0         0.0         1.0  \n",
       "switch_to_order_menu        0.0         0.0         0.0  \n",
       "aggregate_rating            4.0         4.0         5.0  \n",
       "votes                     335.0       663.0     41333.0  "
      ]
     },
     "execution_count": 186,
     "metadata": {},
     "output_type": "execute_result"
    }
   ],
   "source": [
    "#inspeção estatística geral\n",
    "\n",
    "df.describe().T.round()"
   ]
  },
  {
   "cell_type": "code",
   "execution_count": 187,
   "id": "b9ca932a",
   "metadata": {
    "scrolled": false
   },
   "outputs": [
    {
     "data": {
      "image/png": "[encoded data removed]",
      "text/plain": [
       "<Figure size 864x864 with 9 Axes>"
      ]
     },
     "metadata": {
      "needs_background": "light"
     },
     "output_type": "display_data"
    }
   ],
   "source": [
    "#inspeção estatística geral\n",
    "\n",
    "df.hist(figsize=(12,12));"
   ]
  },
  {
   "cell_type": "code",
   "execution_count": 188,
   "id": "37b3e30c",
   "metadata": {},
   "outputs": [
    {
     "data": {
      "text/html": [
       "<div>\n",
       "<style scoped>\n",
       "    .dataframe tbody tr th:only-of-type {\n",
       "        vertical-align: middle;\n",
       "    }\n",
       "\n",
       "    .dataframe tbody tr th {\n",
       "        vertical-align: top;\n",
       "    }\n",
       "\n",
       "    .dataframe thead th {\n",
       "        text-align: right;\n",
       "    }\n",
       "</style>\n",
       "<table border=\"1\" class=\"dataframe\">\n",
       "  <thead>\n",
       "    <tr style=\"text-align: right;\">\n",
       "      <th></th>\n",
       "      <th>restaurant_id</th>\n",
       "      <th>restaurant_name</th>\n",
       "      <th>country_code</th>\n",
       "      <th>city</th>\n",
       "      <th>address</th>\n",
       "      <th>locality</th>\n",
       "      <th>locality_verbose</th>\n",
       "      <th>longitude</th>\n",
       "      <th>latitude</th>\n",
       "      <th>cuisines</th>\n",
       "      <th>...</th>\n",
       "      <th>has_online_delivery</th>\n",
       "      <th>is_delivering_now</th>\n",
       "      <th>switch_to_order_menu</th>\n",
       "      <th>price_range</th>\n",
       "      <th>aggregate_rating</th>\n",
       "      <th>rating_color</th>\n",
       "      <th>rating_text</th>\n",
       "      <th>votes</th>\n",
       "      <th>country_name</th>\n",
       "      <th>cuisines_null</th>\n",
       "    </tr>\n",
       "  </thead>\n",
       "  <tbody>\n",
       "    <tr>\n",
       "      <th>0</th>\n",
       "      <td>6310675</td>\n",
       "      <td>Mama Lou's Italian Kitchen</td>\n",
       "      <td>162</td>\n",
       "      <td>Las Piñas City</td>\n",
       "      <td>Block 1, Lot 36, Tropical Avenue Corner Tropic...</td>\n",
       "      <td>BF International</td>\n",
       "      <td>BF International, Las Piñas City</td>\n",
       "      <td>121.009787</td>\n",
       "      <td>14.447615</td>\n",
       "      <td>Italian</td>\n",
       "      <td>...</td>\n",
       "      <td>yes</td>\n",
       "      <td>yes</td>\n",
       "      <td>0</td>\n",
       "      <td>expensive</td>\n",
       "      <td>4.6</td>\n",
       "      <td>darkgreen</td>\n",
       "      <td>Excellent</td>\n",
       "      <td>619</td>\n",
       "      <td>Philippines</td>\n",
       "      <td>Italian</td>\n",
       "    </tr>\n",
       "    <tr>\n",
       "      <th>1</th>\n",
       "      <td>6310675</td>\n",
       "      <td>Mama Lou's Italian Kitchen</td>\n",
       "      <td>162</td>\n",
       "      <td>Las Piñas City</td>\n",
       "      <td>Block 1, Lot 36, Tropical Avenue Corner Tropic...</td>\n",
       "      <td>BF International</td>\n",
       "      <td>BF International, Las Piñas City</td>\n",
       "      <td>121.009787</td>\n",
       "      <td>14.447615</td>\n",
       "      <td>Italian</td>\n",
       "      <td>...</td>\n",
       "      <td>yes</td>\n",
       "      <td>yes</td>\n",
       "      <td>0</td>\n",
       "      <td>expensive</td>\n",
       "      <td>4.6</td>\n",
       "      <td>darkgreen</td>\n",
       "      <td>Excellent</td>\n",
       "      <td>619</td>\n",
       "      <td>Philippines</td>\n",
       "      <td>Italian</td>\n",
       "    </tr>\n",
       "    <tr>\n",
       "      <th>2</th>\n",
       "      <td>6314542</td>\n",
       "      <td>Blackbird</td>\n",
       "      <td>162</td>\n",
       "      <td>Makati City</td>\n",
       "      <td>Nielson Tower, Ayala Triangle Gardens, Salcedo...</td>\n",
       "      <td>Ayala Triangle Gardens, Salcedo Village, Makat...</td>\n",
       "      <td>Ayala Triangle Gardens, Salcedo Village, Makat...</td>\n",
       "      <td>121.024562</td>\n",
       "      <td>14.556042</td>\n",
       "      <td>European, Asian</td>\n",
       "      <td>...</td>\n",
       "      <td>yes</td>\n",
       "      <td>yes</td>\n",
       "      <td>0</td>\n",
       "      <td>gourmet</td>\n",
       "      <td>4.7</td>\n",
       "      <td>darkgreen</td>\n",
       "      <td>Excellent</td>\n",
       "      <td>469</td>\n",
       "      <td>Philippines</td>\n",
       "      <td>European</td>\n",
       "    </tr>\n",
       "    <tr>\n",
       "      <th>3</th>\n",
       "      <td>6301293</td>\n",
       "      <td>Banapple</td>\n",
       "      <td>162</td>\n",
       "      <td>Makati City</td>\n",
       "      <td>Ayala Triangle Gardens, Salcedo Village, Makat...</td>\n",
       "      <td>Ayala Triangle Gardens, Salcedo Village, Makat...</td>\n",
       "      <td>Ayala Triangle Gardens, Salcedo Village, Makat...</td>\n",
       "      <td>121.023171</td>\n",
       "      <td>14.556196</td>\n",
       "      <td>Filipino, American, Italian, Bakery</td>\n",
       "      <td>...</td>\n",
       "      <td>yes</td>\n",
       "      <td>yes</td>\n",
       "      <td>0</td>\n",
       "      <td>expensive</td>\n",
       "      <td>4.4</td>\n",
       "      <td>green</td>\n",
       "      <td>Very Good</td>\n",
       "      <td>867</td>\n",
       "      <td>Philippines</td>\n",
       "      <td>Filipino</td>\n",
       "    </tr>\n",
       "    <tr>\n",
       "      <th>4</th>\n",
       "      <td>6315689</td>\n",
       "      <td>Bad Bird</td>\n",
       "      <td>162</td>\n",
       "      <td>Makati City</td>\n",
       "      <td>Hole In The Wall, Floor 4, Century City Mall, ...</td>\n",
       "      <td>Century City Mall, Poblacion, Makati City</td>\n",
       "      <td>Century City Mall, Poblacion, Makati City, Mak...</td>\n",
       "      <td>121.027708</td>\n",
       "      <td>14.565899</td>\n",
       "      <td>American</td>\n",
       "      <td>...</td>\n",
       "      <td>yes</td>\n",
       "      <td>yes</td>\n",
       "      <td>0</td>\n",
       "      <td>expensive</td>\n",
       "      <td>4.4</td>\n",
       "      <td>green</td>\n",
       "      <td>Very Good</td>\n",
       "      <td>858</td>\n",
       "      <td>Philippines</td>\n",
       "      <td>American</td>\n",
       "    </tr>\n",
       "  </tbody>\n",
       "</table>\n",
       "<p>5 rows × 23 columns</p>\n",
       "</div>"
      ],
      "text/plain": [
       "   restaurant_id             restaurant_name  country_code            city  \\\n",
       "0        6310675  Mama Lou's Italian Kitchen           162  Las Piñas City   \n",
       "1        6310675  Mama Lou's Italian Kitchen           162  Las Piñas City   \n",
       "2        6314542                   Blackbird           162     Makati City   \n",
       "3        6301293                    Banapple           162     Makati City   \n",
       "4        6315689                    Bad Bird           162     Makati City   \n",
       "\n",
       "                                             address  \\\n",
       "0  Block 1, Lot 36, Tropical Avenue Corner Tropic...   \n",
       "1  Block 1, Lot 36, Tropical Avenue Corner Tropic...   \n",
       "2  Nielson Tower, Ayala Triangle Gardens, Salcedo...   \n",
       "3  Ayala Triangle Gardens, Salcedo Village, Makat...   \n",
       "4  Hole In The Wall, Floor 4, Century City Mall, ...   \n",
       "\n",
       "                                            locality  \\\n",
       "0                                   BF International   \n",
       "1                                   BF International   \n",
       "2  Ayala Triangle Gardens, Salcedo Village, Makat...   \n",
       "3  Ayala Triangle Gardens, Salcedo Village, Makat...   \n",
       "4          Century City Mall, Poblacion, Makati City   \n",
       "\n",
       "                                    locality_verbose   longitude   latitude  \\\n",
       "0                   BF International, Las Piñas City  121.009787  14.447615   \n",
       "1                   BF International, Las Piñas City  121.009787  14.447615   \n",
       "2  Ayala Triangle Gardens, Salcedo Village, Makat...  121.024562  14.556042   \n",
       "3  Ayala Triangle Gardens, Salcedo Village, Makat...  121.023171  14.556196   \n",
       "4  Century City Mall, Poblacion, Makati City, Mak...  121.027708  14.565899   \n",
       "\n",
       "                              cuisines  ...  has_online_delivery  \\\n",
       "0                              Italian  ...                  yes   \n",
       "1                              Italian  ...                  yes   \n",
       "2                      European, Asian  ...                  yes   \n",
       "3  Filipino, American, Italian, Bakery  ...                  yes   \n",
       "4                             American  ...                  yes   \n",
       "\n",
       "  is_delivering_now  switch_to_order_menu price_range aggregate_rating  \\\n",
       "0               yes                     0   expensive              4.6   \n",
       "1               yes                     0   expensive              4.6   \n",
       "2               yes                     0     gourmet              4.7   \n",
       "3               yes                     0   expensive              4.4   \n",
       "4               yes                     0   expensive              4.4   \n",
       "\n",
       "   rating_color rating_text  votes country_name cuisines_null  \n",
       "0     darkgreen   Excellent    619  Philippines       Italian  \n",
       "1     darkgreen   Excellent    619  Philippines       Italian  \n",
       "2     darkgreen   Excellent    469  Philippines      European  \n",
       "3         green   Very Good    867  Philippines      Filipino  \n",
       "4         green   Very Good    858  Philippines      American  \n",
       "\n",
       "[5 rows x 23 columns]"
      ]
     },
     "execution_count": 188,
     "metadata": {},
     "output_type": "execute_result"
    }
   ],
   "source": [
    "#inspeção geral final\n",
    "\n",
    "df.head()"
   ]
  },
  {
   "cell_type": "code",
   "execution_count": 189,
   "id": "c842ca19",
   "metadata": {},
   "outputs": [],
   "source": [
    "#salvar csv\n",
    "\n",
    "df.to_csv('zomato.csv')"
   ]
  }
 ],
 "metadata": {
  "kernelspec": {
   "display_name": "Python 3 (ipykernel)",
   "language": "python",
   "name": "python3"
  },
  "language_info": {
   "codemirror_mode": {
    "name": "ipython",
    "version": 3
   },
   "file_extension": ".py",
   "mimetype": "text/x-python",
   "name": "python",
   "nbconvert_exporter": "python",
   "pygments_lexer": "ipython3",
   "version": "3.10.6"
  }
 },
 "nbformat": 4,
 "nbformat_minor": 5
}
